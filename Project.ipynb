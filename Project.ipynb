{
 "cells": [
  {
   "cell_type": "code",
   "execution_count": 48,
   "metadata": {},
   "outputs": [],
   "source": [
    "import pandas as pd\n",
    "\n",
    "path = r'/Users/benrivera/Desktop/Test/HRTest.csv'\n",
    "HR_Test= pd.read_csv(path)\n",
    "path2 = r'/Users/benrivera/Desktop/Test/PWTest.csv'\n",
    "PW_Test = pd.read_csv(path2)\n",
    "\n"
   ]
  },
  {
   "cell_type": "markdown",
   "metadata": {},
   "source": [
    "Upper Body Analysis"
   ]
  },
  {
   "cell_type": "code",
   "execution_count": 31,
   "metadata": {},
   "outputs": [
    {
     "data": {
      "text/html": [
       "<div>\n",
       "<style scoped>\n",
       "    .dataframe tbody tr th:only-of-type {\n",
       "        vertical-align: middle;\n",
       "    }\n",
       "\n",
       "    .dataframe tbody tr th {\n",
       "        vertical-align: top;\n",
       "    }\n",
       "\n",
       "    .dataframe thead th {\n",
       "        text-align: right;\n",
       "    }\n",
       "</style>\n",
       "<table border=\"1\" class=\"dataframe\">\n",
       "  <thead>\n",
       "    <tr style=\"text-align: right;\">\n",
       "      <th></th>\n",
       "      <th>Workout</th>\n",
       "      <th>Average Heart Rate (bpm)</th>\n",
       "      <th>Time (min)</th>\n",
       "      <th>Type</th>\n",
       "      <th>Date</th>\n",
       "    </tr>\n",
       "  </thead>\n",
       "  <tbody>\n",
       "    <tr>\n",
       "      <th>0</th>\n",
       "      <td>W1</td>\n",
       "      <td>118</td>\n",
       "      <td>39</td>\n",
       "      <td>Weights: Upper Body</td>\n",
       "      <td>3/21/22</td>\n",
       "    </tr>\n",
       "    <tr>\n",
       "      <th>1</th>\n",
       "      <td>W4</td>\n",
       "      <td>102</td>\n",
       "      <td>46</td>\n",
       "      <td>Weights: Upper Body</td>\n",
       "      <td>3/28/22</td>\n",
       "    </tr>\n",
       "    <tr>\n",
       "      <th>2</th>\n",
       "      <td>W7</td>\n",
       "      <td>114</td>\n",
       "      <td>45</td>\n",
       "      <td>Weights: Upper Body</td>\n",
       "      <td>4/1/22</td>\n",
       "    </tr>\n",
       "    <tr>\n",
       "      <th>3</th>\n",
       "      <td>W8</td>\n",
       "      <td>100</td>\n",
       "      <td>49</td>\n",
       "      <td>Weights: Upper Body</td>\n",
       "      <td>4/4/22</td>\n",
       "    </tr>\n",
       "  </tbody>\n",
       "</table>\n",
       "</div>"
      ],
      "text/plain": [
       "  Workout  Average Heart Rate (bpm)  Time (min)                 Type     Date\n",
       "0      W1                       118          39  Weights: Upper Body  3/21/22\n",
       "1      W4                       102          46  Weights: Upper Body  3/28/22\n",
       "2      W7                       114          45  Weights: Upper Body   4/1/22\n",
       "3      W8                       100          49  Weights: Upper Body   4/4/22"
      ]
     },
     "execution_count": 31,
     "metadata": {},
     "output_type": "execute_result"
    }
   ],
   "source": [
    "WUB = HR_Test.loc[HR_Test['Type']=='Weights: Upper Body']\n",
    "WUB = WUB.reset_index(drop=True)\n",
    "WUB"
   ]
  },
  {
   "cell_type": "code",
   "execution_count": 33,
   "metadata": {},
   "outputs": [
    {
     "data": {
      "text/plain": [
       "-0.6126329642911571"
      ]
     },
     "execution_count": 33,
     "metadata": {},
     "output_type": "execute_result"
    }
   ],
   "source": [
    "#Allows us to see evaluate the average hearts rate of upper body wieghts workout\n",
    "WUB = HR_Test.loc[HR_Test['Type']=='Weights: Upper Body']\n",
    "#resets index\n",
    "WUB = WUB.reset_index(drop=True)\n",
    "#allows us to use date in correlation\n",
    "WUB['Date']=WUB['Date'].astype('category').cat.codes\n",
    "#Finds the correlation between Average Heart Rate over multiple workouts, \n",
    "WUB['Date'].corr(WUB['Average Heart Rate (bpm)'])"
   ]
  },
  {
   "cell_type": "markdown",
   "metadata": {},
   "source": [
    "Lower Body Analysis "
   ]
  },
  {
   "cell_type": "code",
   "execution_count": 49,
   "metadata": {},
   "outputs": [
    {
     "data": {
      "text/html": [
       "<div>\n",
       "<style scoped>\n",
       "    .dataframe tbody tr th:only-of-type {\n",
       "        vertical-align: middle;\n",
       "    }\n",
       "\n",
       "    .dataframe tbody tr th {\n",
       "        vertical-align: top;\n",
       "    }\n",
       "\n",
       "    .dataframe thead th {\n",
       "        text-align: right;\n",
       "    }\n",
       "</style>\n",
       "<table border=\"1\" class=\"dataframe\">\n",
       "  <thead>\n",
       "    <tr style=\"text-align: right;\">\n",
       "      <th></th>\n",
       "      <th>Workout</th>\n",
       "      <th>Average Heart Rate (bpm)</th>\n",
       "      <th>Time (min)</th>\n",
       "      <th>Type</th>\n",
       "      <th>Date</th>\n",
       "    </tr>\n",
       "  </thead>\n",
       "  <tbody>\n",
       "    <tr>\n",
       "      <th>0</th>\n",
       "      <td>W5</td>\n",
       "      <td>134</td>\n",
       "      <td>45</td>\n",
       "      <td>Weights: Legs</td>\n",
       "      <td>3/30/22</td>\n",
       "    </tr>\n",
       "    <tr>\n",
       "      <th>1</th>\n",
       "      <td>W10</td>\n",
       "      <td>138</td>\n",
       "      <td>50</td>\n",
       "      <td>Weights: Legs</td>\n",
       "      <td>4/6/22</td>\n",
       "    </tr>\n",
       "  </tbody>\n",
       "</table>\n",
       "</div>"
      ],
      "text/plain": [
       "  Workout  Average Heart Rate (bpm)  Time (min)           Type     Date\n",
       "0      W5                       134          45  Weights: Legs  3/30/22\n",
       "1     W10                       138          50  Weights: Legs   4/6/22"
      ]
     },
     "execution_count": 49,
     "metadata": {},
     "output_type": "execute_result"
    }
   ],
   "source": [
    "WLB = HR_Test.loc[HR_Test['Type']=='Weights: Legs']\n",
    "#resets index\n",
    "WLB = WLB.reset_index(drop=True)\n",
    "WLB"
   ]
  },
  {
   "cell_type": "code",
   "execution_count": 50,
   "metadata": {},
   "outputs": [
    {
     "data": {
      "text/plain": [
       "0.9999999999999999"
      ]
     },
     "execution_count": 50,
     "metadata": {},
     "output_type": "execute_result"
    }
   ],
   "source": [
    "WLB = HR_Test.loc[HR_Test['Type']=='Weights: Legs']\n",
    "#resets index\n",
    "WLB = WLB.reset_index(drop=True)\n",
    "#allows us to use date in correlation\n",
    "WLB['Date']=WLB['Date'].astype('category').cat.codes\n",
    "#Finds the correlation between Average Heart Rate over multiple workouts, \n",
    "WLB['Date'].corr(WLB['Average Heart Rate (bpm)'])"
   ]
  },
  {
   "cell_type": "code",
   "execution_count": null,
   "metadata": {},
   "outputs": [],
   "source": [
    "PW_Test"
   ]
  },
  {
   "cell_type": "code",
   "execution_count": null,
   "metadata": {},
   "outputs": [],
   "source": [
    "#Allows Strings to be read as integers\n",
    "PW_Test['Pre Workout']=PW_Test['Pre Workout'].astype('category').cat.codes\n",
    "\n",
    "PW_Test.corr()"
   ]
  },
  {
   "cell_type": "code",
   "execution_count": null,
   "metadata": {},
   "outputs": [],
   "source": []
  }
 ],
 "metadata": {
  "interpreter": {
   "hash": "3a182e13e6ea85b9b2aa1f86783488cbad368f5313749c2a510bbbb6059f4c75"
  },
  "kernelspec": {
   "display_name": "Python 3.8.11 ('ML')",
   "language": "python",
   "name": "python3"
  },
  "language_info": {
   "codemirror_mode": {
    "name": "ipython",
    "version": 3
   },
   "file_extension": ".py",
   "mimetype": "text/x-python",
   "name": "python",
   "nbconvert_exporter": "python",
   "pygments_lexer": "ipython3",
   "version": "3.9.10"
  },
  "orig_nbformat": 4
 },
 "nbformat": 4,
 "nbformat_minor": 2
}
