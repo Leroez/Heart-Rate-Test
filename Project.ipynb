{
 "cells": [
  {
   "cell_type": "code",
   "execution_count": 9,
   "metadata": {},
   "outputs": [],
   "source": [
    "#Run this first before proceeding, this allows you to read the file and save it to a variable\n",
    "import pandas as pd\n",
    "#change file path to wherever you have the files\n",
    "path = r'/Users/benrivera/Desktop/Test/HRTest.csv'\n",
    "HR_Test= pd.read_csv(path)\n",
    "path2 = r'/Users/benrivera/Desktop/Test/PWTest.csv'\n",
    "PW_Test = pd.read_csv(path2)\n",
    "\n"
   ]
  },
  {
   "cell_type": "markdown",
   "metadata": {},
   "source": [
    "    Weights Upper Body "
   ]
  },
  {
   "cell_type": "markdown",
   "metadata": {},
   "source": [
    "        Push"
   ]
  },
  {
   "cell_type": "code",
   "execution_count": 19,
   "metadata": {},
   "outputs": [
    {
     "data": {
      "text/html": [
       "<div>\n",
       "<style scoped>\n",
       "    .dataframe tbody tr th:only-of-type {\n",
       "        vertical-align: middle;\n",
       "    }\n",
       "\n",
       "    .dataframe tbody tr th {\n",
       "        vertical-align: top;\n",
       "    }\n",
       "\n",
       "    .dataframe thead th {\n",
       "        text-align: right;\n",
       "    }\n",
       "</style>\n",
       "<table border=\"1\" class=\"dataframe\">\n",
       "  <thead>\n",
       "    <tr style=\"text-align: right;\">\n",
       "      <th></th>\n",
       "      <th>Average Heart Rate (bpm)</th>\n",
       "      <th>Time (min)</th>\n",
       "    </tr>\n",
       "    <tr>\n",
       "      <th>Count</th>\n",
       "      <th></th>\n",
       "      <th></th>\n",
       "    </tr>\n",
       "  </thead>\n",
       "  <tbody>\n",
       "    <tr>\n",
       "      <th>1</th>\n",
       "      <td>118</td>\n",
       "      <td>39</td>\n",
       "    </tr>\n",
       "    <tr>\n",
       "      <th>2</th>\n",
       "      <td>102</td>\n",
       "      <td>46</td>\n",
       "    </tr>\n",
       "    <tr>\n",
       "      <th>3</th>\n",
       "      <td>100</td>\n",
       "      <td>49</td>\n",
       "    </tr>\n",
       "    <tr>\n",
       "      <th>4</th>\n",
       "      <td>107</td>\n",
       "      <td>42</td>\n",
       "    </tr>\n",
       "    <tr>\n",
       "      <th>5</th>\n",
       "      <td>99</td>\n",
       "      <td>52</td>\n",
       "    </tr>\n",
       "    <tr>\n",
       "      <th>6</th>\n",
       "      <td>99</td>\n",
       "      <td>50</td>\n",
       "    </tr>\n",
       "    <tr>\n",
       "      <th>7</th>\n",
       "      <td>103</td>\n",
       "      <td>46</td>\n",
       "    </tr>\n",
       "    <tr>\n",
       "      <th>8</th>\n",
       "      <td>99</td>\n",
       "      <td>43</td>\n",
       "    </tr>\n",
       "    <tr>\n",
       "      <th>9</th>\n",
       "      <td>110</td>\n",
       "      <td>43</td>\n",
       "    </tr>\n",
       "    <tr>\n",
       "      <th>10</th>\n",
       "      <td>109</td>\n",
       "      <td>46</td>\n",
       "    </tr>\n",
       "    <tr>\n",
       "      <th>11</th>\n",
       "      <td>102</td>\n",
       "      <td>30</td>\n",
       "    </tr>\n",
       "    <tr>\n",
       "      <th>12</th>\n",
       "      <td>108</td>\n",
       "      <td>42</td>\n",
       "    </tr>\n",
       "    <tr>\n",
       "      <th>13</th>\n",
       "      <td>114</td>\n",
       "      <td>40</td>\n",
       "    </tr>\n",
       "    <tr>\n",
       "      <th>14</th>\n",
       "      <td>110</td>\n",
       "      <td>52</td>\n",
       "    </tr>\n",
       "  </tbody>\n",
       "</table>\n",
       "</div>"
      ],
      "text/plain": [
       "       Average Heart Rate (bpm)  Time (min)\n",
       "Count                                      \n",
       "1                           118          39\n",
       "2                           102          46\n",
       "3                           100          49\n",
       "4                           107          42\n",
       "5                            99          52\n",
       "6                            99          50\n",
       "7                           103          46\n",
       "8                            99          43\n",
       "9                           110          43\n",
       "10                          109          46\n",
       "11                          102          30\n",
       "12                          108          42\n",
       "13                          114          40\n",
       "14                          110          52"
      ]
     },
     "execution_count": 19,
     "metadata": {},
     "output_type": "execute_result"
    }
   ],
   "source": [
    "#Creats a filter to only show workouts labeld as \"Weights: Push\"\n",
    "WPU = HR_Test.loc[HR_Test['Type']=='Weights: Push']\n",
    "#resets the index\n",
    "WPU = WPU.reset_index(drop=True)\n",
    "#set the index\n",
    "WPU = WPU.set_index('Count')\n",
    "#drop the columns that are not necessary\n",
    "WPU = WPU.drop(['Workout', 'Date', 'Type'], axis=1)\n",
    "\n",
    "WPU"
   ]
  },
  {
   "cell_type": "code",
   "execution_count": 4,
   "metadata": {},
   "outputs": [
    {
     "name": "stderr",
     "output_type": "stream",
     "text": [
      "INFO:prophet:Disabling yearly seasonality. Run prophet with yearly_seasonality=True to override this.\n",
      "INFO:prophet:Disabling daily seasonality. Run prophet with daily_seasonality=True to override this.\n",
      "/Users/benrivera/opt/anaconda3/lib/python3.9/site-packages/prophet/forecaster.py:896: FutureWarning: The frame.append method is deprecated and will be removed from pandas in a future version. Use pandas.concat instead.\n",
      "  components = components.append(new_comp)\n",
      "INFO:prophet:n_changepoints greater than number of observations. Using 10.\n"
     ]
    },
    {
     "name": "stdout",
     "output_type": "stream",
     "text": [
      "\n",
      "Initial log joint probability = -16.5443\n",
      "Iteration  1. Log joint probability =    13.5592. Improved by 30.1035.\n",
      "Iteration  2. Log joint probability =    19.5637. Improved by 6.00448.\n",
      "Iteration  3. Log joint probability =    28.7132. Improved by 9.14955.\n",
      "Iteration  4. Log joint probability =    35.2003. Improved by 6.48706.\n",
      "Iteration  5. Log joint probability =    36.6249. Improved by 1.42461.\n",
      "Iteration  6. Log joint probability =    36.6498. Improved by 0.02488.\n",
      "Iteration  7. Log joint probability =    36.7068. Improved by 0.0570148.\n",
      "Iteration  8. Log joint probability =    36.7249. Improved by 0.0180918.\n",
      "Iteration  9. Log joint probability =    36.7364. Improved by 0.0115076.\n",
      "Iteration 10. Log joint probability =    36.7467. Improved by 0.0103235.\n",
      "Iteration 11. Log joint probability =    36.7504. Improved by 0.0036813.\n",
      "Iteration 12. Log joint probability =    36.7513. Improved by 0.000895879.\n",
      "Iteration 13. Log joint probability =    36.7516. Improved by 0.000323455.\n",
      "Iteration 14. Log joint probability =    36.7549. Improved by 0.00323643.\n",
      "Iteration 15. Log joint probability =    36.7552. Improved by 0.000280918.\n",
      "Iteration 16. Log joint probability =    36.7553. Improved by 0.000157251.\n",
      "Iteration 17. Log joint probability =    36.7556. Improved by 0.00032818.\n",
      "Iteration 18. Log joint probability =    36.7563. Improved by 0.000642715.\n",
      "Iteration 19. Log joint probability =    36.7563. Improved by 6.44316e-05.\n",
      "Iteration 20. Log joint probability =    36.7571. Improved by 0.000802476.\n",
      "Iteration 21. Log joint probability =    36.7571. Improved by 1.84427e-06.\n",
      "Iteration 22. Log joint probability =    36.7573. Improved by 0.000156609.\n",
      "Iteration 23. Log joint probability =    36.7573. Improved by 1.68246e-05.\n",
      "Iteration 24. Log joint probability =    36.7575. Improved by 0.000215458.\n",
      "Iteration 25. Log joint probability =    36.7575. Improved by 1.50989e-06.\n",
      "Iteration 26. Log joint probability =    36.7577. Improved by 0.000111924.\n",
      "Iteration 27. Log joint probability =    36.7577. Improved by 7.26553e-05.\n",
      "Iteration 28. Log joint probability =    36.7578. Improved by 5.44915e-05.\n",
      "Iteration 29. Log joint probability =    36.7578. Improved by 2.02692e-05.\n",
      "Iteration 30. Log joint probability =    36.7578. Improved by 3.54042e-07.\n",
      "Iteration 31. Log joint probability =    36.7578. Improved by 2.70091e-05.\n",
      "Iteration 32. Log joint probability =    36.7579. Improved by 3.1912e-05.\n",
      "Iteration 33. Log joint probability =    36.7579. Improved by 1.06106e-05.\n",
      "Iteration 34. Log joint probability =    36.7579. Improved by 4.05868e-05.\n",
      "Iteration 35. Log joint probability =    36.7579. Improved by 8.08685e-06.\n",
      "Iteration 36. Log joint probability =    36.7579. Improved by 1.49129e-05.\n",
      "Iteration 37. Log joint probability =     36.758. Improved by 4.43919e-05.\n",
      "Iteration 38. Log joint probability =     36.758. Improved by 1.42776e-05.\n",
      "Iteration 39. Log joint probability =     36.758. Improved by 1.79366e-05.\n",
      "Iteration 40. Log joint probability =     36.758. Improved by 2.91533e-05.\n",
      "Iteration 41. Log joint probability =    36.7581. Improved by 2.45488e-05.\n",
      "Iteration 42. Log joint probability =    36.7581. Improved by 2.51621e-05.\n",
      "Iteration 43. Log joint probability =    36.7581. Improved by 4.3655e-05.\n",
      "Iteration 44. Log joint probability =    36.7581. Improved by 1.90269e-05.\n",
      "Iteration 45. Log joint probability =    36.7582. Improved by 1.71082e-05.\n",
      "Iteration 46. Log joint probability =    36.7582. Improved by 1.75921e-05.\n",
      "Iteration 47. Log joint probability =    36.7582. Improved by 1.5826e-05.\n",
      "Iteration 48. Log joint probability =    36.7582. Improved by 1.89698e-05.\n",
      "Iteration 49. Log joint probability =    36.7582. Improved by 3.77323e-06.\n",
      "Iteration 50. Log joint probability =    36.7582. Improved by 6.44822e-06.\n",
      "Iteration 51. Log joint probability =    36.7582. Improved by 6.39617e-07.\n",
      "Iteration 52. Log joint probability =    36.7582. Improved by 8.20637e-06.\n",
      "Iteration 53. Log joint probability =    36.7582. Improved by 6.53603e-06.\n",
      "Iteration 54. Log joint probability =    36.7582. Improved by 3.10077e-06.\n",
      "Iteration 55. Log joint probability =    36.7582. Improved by 1.87273e-06.\n",
      "Iteration 56. Log joint probability =    36.7582. Improved by 1.76517e-07.\n",
      "Iteration 57. Log joint probability =    36.7583. Improved by 2.62585e-07.\n",
      "Iteration 58. Log joint probability =    36.7583. Improved by 2.25257e-07.\n",
      "Iteration 59. Log joint probability =    36.7583. Improved by 5.18462e-07.\n",
      "Iteration 60. Log joint probability =    36.7583. Improved by 1.60452e-07.\n",
      "Iteration 61. Log joint probability =    36.7583. Improved by 2.34222e-07.\n",
      "Iteration 62. Log joint probability =    36.7583. Improved by 5.4388e-08.\n",
      "Iteration 63. Log joint probability =    36.7583. Improved by 8.41666e-08.\n",
      "Iteration 64. Log joint probability =    36.7583. Improved by 2.6475e-07.\n",
      "Iteration 65. Log joint probability =    36.7583. Improved by 1.70213e-07.\n",
      "Iteration 66. Log joint probability =    36.7583. Improved by 1.50772e-08.\n",
      "Iteration 67. Log joint probability =    36.7583. Improved by 1.16531e-07.\n",
      "Iteration 68. Log joint probability =    36.7583. Improved by 7.6235e-08.\n",
      "Iteration 69. Log joint probability =    36.7583. Improved by 3.45881e-08.\n",
      "Iteration 70. Log joint probability =    36.7583. Improved by 1.99035e-08.\n",
      "Iteration 71. Log joint probability =    36.7583. Improved by 5.02397e-08.\n",
      "Iteration 72. Log joint probability =    36.7583. Improved by 4.43061e-08.\n",
      "Iteration 73. Log joint probability =    36.7583. Improved by 1.14689e-08.\n",
      "Iteration 74. Log joint probability =    36.7583. Improved by 2.21838e-09.\n"
     ]
    }
   ],
   "source": [
    "#Testing whether or not I can make a predition model\n",
    "\n",
    "import pandas as pd\n",
    "from prophet import Prophet\n",
    "m = Prophet(interval_width=0.95)\n",
    "model = m.fit(WPU)"
   ]
  },
  {
   "cell_type": "code",
   "execution_count": 5,
   "metadata": {},
   "outputs": [
    {
     "name": "stderr",
     "output_type": "stream",
     "text": [
      "/Users/benrivera/opt/anaconda3/lib/python3.9/site-packages/prophet/forecaster.py:896: FutureWarning: The frame.append method is deprecated and will be removed from pandas in a future version. Use pandas.concat instead.\n",
      "  components = components.append(new_comp)\n",
      "/Users/benrivera/opt/anaconda3/lib/python3.9/site-packages/prophet/forecaster.py:896: FutureWarning: The frame.append method is deprecated and will be removed from pandas in a future version. Use pandas.concat instead.\n",
      "  components = components.append(new_comp)\n"
     ]
    },
    {
     "data": {
      "text/html": [
       "<div>\n",
       "<style scoped>\n",
       "    .dataframe tbody tr th:only-of-type {\n",
       "        vertical-align: middle;\n",
       "    }\n",
       "\n",
       "    .dataframe tbody tr th {\n",
       "        vertical-align: top;\n",
       "    }\n",
       "\n",
       "    .dataframe thead th {\n",
       "        text-align: right;\n",
       "    }\n",
       "</style>\n",
       "<table border=\"1\" class=\"dataframe\">\n",
       "  <thead>\n",
       "    <tr style=\"text-align: right;\">\n",
       "      <th></th>\n",
       "      <th>ds</th>\n",
       "      <th>trend</th>\n",
       "      <th>yhat_lower</th>\n",
       "      <th>yhat_upper</th>\n",
       "      <th>trend_lower</th>\n",
       "      <th>trend_upper</th>\n",
       "      <th>additive_terms</th>\n",
       "      <th>additive_terms_lower</th>\n",
       "      <th>additive_terms_upper</th>\n",
       "      <th>weekly</th>\n",
       "      <th>weekly_lower</th>\n",
       "      <th>weekly_upper</th>\n",
       "      <th>multiplicative_terms</th>\n",
       "      <th>multiplicative_terms_lower</th>\n",
       "      <th>multiplicative_terms_upper</th>\n",
       "      <th>yhat</th>\n",
       "    </tr>\n",
       "  </thead>\n",
       "  <tbody>\n",
       "    <tr>\n",
       "      <th>0</th>\n",
       "      <td>2022-03-21</td>\n",
       "      <td>30.248915</td>\n",
       "      <td>95.366237</td>\n",
       "      <td>115.469129</td>\n",
       "      <td>30.248915</td>\n",
       "      <td>30.248915</td>\n",
       "      <td>74.995168</td>\n",
       "      <td>74.995168</td>\n",
       "      <td>74.995168</td>\n",
       "      <td>74.995168</td>\n",
       "      <td>74.995168</td>\n",
       "      <td>74.995168</td>\n",
       "      <td>0.0</td>\n",
       "      <td>0.0</td>\n",
       "      <td>0.0</td>\n",
       "      <td>105.244083</td>\n",
       "    </tr>\n",
       "    <tr>\n",
       "      <th>1</th>\n",
       "      <td>2022-03-28</td>\n",
       "      <td>30.144815</td>\n",
       "      <td>94.046630</td>\n",
       "      <td>114.437534</td>\n",
       "      <td>30.144815</td>\n",
       "      <td>30.144815</td>\n",
       "      <td>74.995168</td>\n",
       "      <td>74.995168</td>\n",
       "      <td>74.995168</td>\n",
       "      <td>74.995168</td>\n",
       "      <td>74.995168</td>\n",
       "      <td>74.995168</td>\n",
       "      <td>0.0</td>\n",
       "      <td>0.0</td>\n",
       "      <td>0.0</td>\n",
       "      <td>105.139983</td>\n",
       "    </tr>\n",
       "    <tr>\n",
       "      <th>2</th>\n",
       "      <td>2022-04-04</td>\n",
       "      <td>30.040715</td>\n",
       "      <td>95.138036</td>\n",
       "      <td>115.508137</td>\n",
       "      <td>30.040715</td>\n",
       "      <td>30.040715</td>\n",
       "      <td>74.995168</td>\n",
       "      <td>74.995168</td>\n",
       "      <td>74.995168</td>\n",
       "      <td>74.995168</td>\n",
       "      <td>74.995168</td>\n",
       "      <td>74.995168</td>\n",
       "      <td>0.0</td>\n",
       "      <td>0.0</td>\n",
       "      <td>0.0</td>\n",
       "      <td>105.035883</td>\n",
       "    </tr>\n",
       "    <tr>\n",
       "      <th>3</th>\n",
       "      <td>2022-04-11</td>\n",
       "      <td>29.936615</td>\n",
       "      <td>94.625390</td>\n",
       "      <td>114.689485</td>\n",
       "      <td>29.936615</td>\n",
       "      <td>29.936615</td>\n",
       "      <td>74.995168</td>\n",
       "      <td>74.995168</td>\n",
       "      <td>74.995168</td>\n",
       "      <td>74.995168</td>\n",
       "      <td>74.995168</td>\n",
       "      <td>74.995168</td>\n",
       "      <td>0.0</td>\n",
       "      <td>0.0</td>\n",
       "      <td>0.0</td>\n",
       "      <td>104.931783</td>\n",
       "    </tr>\n",
       "    <tr>\n",
       "      <th>4</th>\n",
       "      <td>2022-04-18</td>\n",
       "      <td>29.833416</td>\n",
       "      <td>94.762433</td>\n",
       "      <td>114.782545</td>\n",
       "      <td>29.833416</td>\n",
       "      <td>29.833416</td>\n",
       "      <td>74.995168</td>\n",
       "      <td>74.995168</td>\n",
       "      <td>74.995168</td>\n",
       "      <td>74.995168</td>\n",
       "      <td>74.995168</td>\n",
       "      <td>74.995168</td>\n",
       "      <td>0.0</td>\n",
       "      <td>0.0</td>\n",
       "      <td>0.0</td>\n",
       "      <td>104.828584</td>\n",
       "    </tr>\n",
       "  </tbody>\n",
       "</table>\n",
       "</div>"
      ],
      "text/plain": [
       "          ds      trend  yhat_lower  yhat_upper  trend_lower  trend_upper  \\\n",
       "0 2022-03-21  30.248915   95.366237  115.469129    30.248915    30.248915   \n",
       "1 2022-03-28  30.144815   94.046630  114.437534    30.144815    30.144815   \n",
       "2 2022-04-04  30.040715   95.138036  115.508137    30.040715    30.040715   \n",
       "3 2022-04-11  29.936615   94.625390  114.689485    29.936615    29.936615   \n",
       "4 2022-04-18  29.833416   94.762433  114.782545    29.833416    29.833416   \n",
       "\n",
       "   additive_terms  additive_terms_lower  additive_terms_upper     weekly  \\\n",
       "0       74.995168             74.995168             74.995168  74.995168   \n",
       "1       74.995168             74.995168             74.995168  74.995168   \n",
       "2       74.995168             74.995168             74.995168  74.995168   \n",
       "3       74.995168             74.995168             74.995168  74.995168   \n",
       "4       74.995168             74.995168             74.995168  74.995168   \n",
       "\n",
       "   weekly_lower  weekly_upper  multiplicative_terms  \\\n",
       "0     74.995168     74.995168                   0.0   \n",
       "1     74.995168     74.995168                   0.0   \n",
       "2     74.995168     74.995168                   0.0   \n",
       "3     74.995168     74.995168                   0.0   \n",
       "4     74.995168     74.995168                   0.0   \n",
       "\n",
       "   multiplicative_terms_lower  multiplicative_terms_upper        yhat  \n",
       "0                         0.0                         0.0  105.244083  \n",
       "1                         0.0                         0.0  105.139983  \n",
       "2                         0.0                         0.0  105.035883  \n",
       "3                         0.0                         0.0  104.931783  \n",
       "4                         0.0                         0.0  104.828584  "
      ]
     },
     "execution_count": 5,
     "metadata": {},
     "output_type": "execute_result"
    }
   ],
   "source": [
    "future = m.make_future_dataframe(periods=100,freq='D')\n",
    "forecast = m.predict(future)\n",
    "forecast.head()"
   ]
  },
  {
   "cell_type": "code",
   "execution_count": 6,
   "metadata": {},
   "outputs": [
    {
     "data": {
      "image/png": "[encoded data removed]",
      "text/plain": [
       "<Figure size 720x432 with 1 Axes>"
      ]
     },
     "metadata": {},
     "output_type": "display_data"
    }
   ],
   "source": [
    "plot1 = m.plot(forecast)"
   ]
  },
  {
   "cell_type": "code",
   "execution_count": 13,
   "metadata": {},
   "outputs": [
    {
     "data": {
      "text/plain": [
       "5.836199490232999"
      ]
     },
     "execution_count": 13,
     "metadata": {},
     "output_type": "execute_result"
    }
   ],
   "source": [
    "import numpy as np\n",
    "\n",
    "#finds the standard deviation of heart rates\n",
    "stdWPU= np.std(WPU[\"Average Heart Rate (bpm)\"])\n",
    "#plan to remove the ones that don't might be outliers\n",
    "\n",
    "stdWPU"
   ]
  },
  {
   "cell_type": "code",
   "execution_count": 14,
   "metadata": {},
   "outputs": [
    {
     "name": "stdout",
     "output_type": "stream",
     "text": [
      "The correlation of Average Heart Rate for pull weights over multiple workouts is 0.22\n"
     ]
    }
   ],
   "source": [
    "#Allows us to see evaluate the average hearts rate of push workouts by filtering only those types\n",
    "WPU = HR_Test.loc[HR_Test['Type']=='Weights: Push']\n",
    "#resets the index\n",
    "WPU = WPU.reset_index(drop=True)\n",
    "WPU = WPU.set_index('Workout')\n",
    "#Allows us to put Date into the correlation function\n",
    "WPU['Date']=WPU['Date'].astype('category').cat.codes\n",
    "#Finds the correlation between Average Heart Rate over multiple workouts, \n",
    "WPU_Corr = WPU['Count'].corr(WPU['Average Heart Rate (bpm)'])\n",
    "WPU_Corr = \"{:.2f}\".format(WPU_Corr)\n",
    "print('The correlation of Average Heart Rate for pull weights over multiple workouts is ' + str(WPU_Corr))"
   ]
  },
  {
   "cell_type": "markdown",
   "metadata": {},
   "source": [
    "        Pull"
   ]
  },
  {
   "cell_type": "code",
   "execution_count": 20,
   "metadata": {},
   "outputs": [
    {
     "data": {
      "text/html": [
       "<div>\n",
       "<style scoped>\n",
       "    .dataframe tbody tr th:only-of-type {\n",
       "        vertical-align: middle;\n",
       "    }\n",
       "\n",
       "    .dataframe tbody tr th {\n",
       "        vertical-align: top;\n",
       "    }\n",
       "\n",
       "    .dataframe thead th {\n",
       "        text-align: right;\n",
       "    }\n",
       "</style>\n",
       "<table border=\"1\" class=\"dataframe\">\n",
       "  <thead>\n",
       "    <tr style=\"text-align: right;\">\n",
       "      <th></th>\n",
       "      <th>Average Heart Rate (bpm)</th>\n",
       "      <th>Time (min)</th>\n",
       "    </tr>\n",
       "    <tr>\n",
       "      <th>Count</th>\n",
       "      <th></th>\n",
       "      <th></th>\n",
       "    </tr>\n",
       "  </thead>\n",
       "  <tbody>\n",
       "    <tr>\n",
       "      <th>1</th>\n",
       "      <td>114</td>\n",
       "      <td>45</td>\n",
       "    </tr>\n",
       "    <tr>\n",
       "      <th>2</th>\n",
       "      <td>105</td>\n",
       "      <td>40</td>\n",
       "    </tr>\n",
       "    <tr>\n",
       "      <th>3</th>\n",
       "      <td>118</td>\n",
       "      <td>45</td>\n",
       "    </tr>\n",
       "    <tr>\n",
       "      <th>4</th>\n",
       "      <td>120</td>\n",
       "      <td>40</td>\n",
       "    </tr>\n",
       "    <tr>\n",
       "      <th>5</th>\n",
       "      <td>112</td>\n",
       "      <td>39</td>\n",
       "    </tr>\n",
       "    <tr>\n",
       "      <th>6</th>\n",
       "      <td>111</td>\n",
       "      <td>35</td>\n",
       "    </tr>\n",
       "    <tr>\n",
       "      <th>7</th>\n",
       "      <td>118</td>\n",
       "      <td>36</td>\n",
       "    </tr>\n",
       "    <tr>\n",
       "      <th>8</th>\n",
       "      <td>106</td>\n",
       "      <td>38</td>\n",
       "    </tr>\n",
       "  </tbody>\n",
       "</table>\n",
       "</div>"
      ],
      "text/plain": [
       "       Average Heart Rate (bpm)  Time (min)\n",
       "Count                                      \n",
       "1                           114          45\n",
       "2                           105          40\n",
       "3                           118          45\n",
       "4                           120          40\n",
       "5                           112          39\n",
       "6                           111          35\n",
       "7                           118          36\n",
       "8                           106          38"
      ]
     },
     "execution_count": 20,
     "metadata": {},
     "output_type": "execute_result"
    }
   ],
   "source": [
    "#Creats a filter to only show workouts labeld as \"Weights: Pull\"\n",
    "WPL = HR_Test.loc[HR_Test['Type']=='Weights: Pull']\n",
    "#resets the index\n",
    "WPL = WPL.reset_index(drop=True)\n",
    "#Drop unessecary columns\n",
    "WPL = WPL.drop(['Workout', 'Date', 'Type'], axis=1)\n",
    "#Set the index to the count\n",
    "WPL = WPL.set_index('Count')\n",
    "WPL"
   ]
  },
  {
   "cell_type": "code",
   "execution_count": 21,
   "metadata": {},
   "outputs": [
    {
     "name": "stdout",
     "output_type": "stream",
     "text": [
      "The correlation of Average Heart Rate for pull weights over multiple workouts is -0.10\n"
     ]
    }
   ],
   "source": [
    "#Allows us to see evaluate the average hearts rate of pull workouts by filtering only those types\n",
    "WPL = HR_Test.loc[HR_Test['Type']=='Weights: Pull']\n",
    "#resets the index\n",
    "WPL = WPL.reset_index(drop=True)\n",
    "WPL = WPL.set_index('Workout')\n",
    "#Finds the correlation between Average Heart Rate over multiple workouts, \n",
    "WPL_Corr = WPL['Count'].corr(WPL['Average Heart Rate (bpm)'])\n",
    "WPL_Corr = \"{:.2f}\".format(WPL_Corr )\n",
    "print('The correlation of Average Heart Rate for pull weights over multiple workouts is ' + str(WPL_Corr))"
   ]
  },
  {
   "cell_type": "markdown",
   "metadata": {},
   "source": [
    "    Weigths: Lower Body "
   ]
  },
  {
   "cell_type": "code",
   "execution_count": 22,
   "metadata": {},
   "outputs": [
    {
     "data": {
      "text/html": [
       "<div>\n",
       "<style scoped>\n",
       "    .dataframe tbody tr th:only-of-type {\n",
       "        vertical-align: middle;\n",
       "    }\n",
       "\n",
       "    .dataframe tbody tr th {\n",
       "        vertical-align: top;\n",
       "    }\n",
       "\n",
       "    .dataframe thead th {\n",
       "        text-align: right;\n",
       "    }\n",
       "</style>\n",
       "<table border=\"1\" class=\"dataframe\">\n",
       "  <thead>\n",
       "    <tr style=\"text-align: right;\">\n",
       "      <th></th>\n",
       "      <th>Average Heart Rate (bpm)</th>\n",
       "      <th>Time (min)</th>\n",
       "    </tr>\n",
       "    <tr>\n",
       "      <th>Count</th>\n",
       "      <th></th>\n",
       "      <th></th>\n",
       "    </tr>\n",
       "  </thead>\n",
       "  <tbody>\n",
       "    <tr>\n",
       "      <th>1</th>\n",
       "      <td>134</td>\n",
       "      <td>45</td>\n",
       "    </tr>\n",
       "    <tr>\n",
       "      <th>2</th>\n",
       "      <td>138</td>\n",
       "      <td>50</td>\n",
       "    </tr>\n",
       "    <tr>\n",
       "      <th>3</th>\n",
       "      <td>124</td>\n",
       "      <td>35</td>\n",
       "    </tr>\n",
       "    <tr>\n",
       "      <th>4</th>\n",
       "      <td>112</td>\n",
       "      <td>40</td>\n",
       "    </tr>\n",
       "    <tr>\n",
       "      <th>5</th>\n",
       "      <td>135</td>\n",
       "      <td>30</td>\n",
       "    </tr>\n",
       "  </tbody>\n",
       "</table>\n",
       "</div>"
      ],
      "text/plain": [
       "       Average Heart Rate (bpm)  Time (min)\n",
       "Count                                      \n",
       "1                           134          45\n",
       "2                           138          50\n",
       "3                           124          35\n",
       "4                           112          40\n",
       "5                           135          30"
      ]
     },
     "execution_count": 22,
     "metadata": {},
     "output_type": "execute_result"
    }
   ],
   "source": [
    "WLB = HR_Test.loc[HR_Test['Type']=='Weights: Legs']\n",
    "#resets index\n",
    "WLB = WLB.reset_index(drop=True)\n",
    "#Drop unessecary columns\n",
    "WLB = WLB.drop(['Workout', 'Date', 'Type'], axis=1)\n",
    "#Set the index to the count\n",
    "WLB = WLB.set_index('Count')\n",
    "WLB"
   ]
  },
  {
   "cell_type": "code",
   "execution_count": null,
   "metadata": {},
   "outputs": [],
   "source": [
    "WLB = HR_Test.loc[HR_Test['Type']=='Weights: Legs']\n",
    "#resets index\n",
    "WLB = WLB.reset_index(drop=True)\n",
    "WLB = WLB.set_index('Workout')\n",
    "#Finds the correlation between Average Heart Rate over multiple workouts, \n",
    "WLB_Corr = WLB['Count'].corr(WLB['Average Heart Rate (bpm)'])\n",
    "WLB_Corr = \"{:.2f}\".format(WLB_Corr )\n",
    "print('The correlation of Average Heart Rate for leg weights over multiple workouts is ' + str(WLB_Corr))"
   ]
  },
  {
   "cell_type": "markdown",
   "metadata": {},
   "source": [
    "    Cardio: Elliptical"
   ]
  },
  {
   "cell_type": "code",
   "execution_count": 23,
   "metadata": {},
   "outputs": [
    {
     "data": {
      "text/html": [
       "<div>\n",
       "<style scoped>\n",
       "    .dataframe tbody tr th:only-of-type {\n",
       "        vertical-align: middle;\n",
       "    }\n",
       "\n",
       "    .dataframe tbody tr th {\n",
       "        vertical-align: top;\n",
       "    }\n",
       "\n",
       "    .dataframe thead th {\n",
       "        text-align: right;\n",
       "    }\n",
       "</style>\n",
       "<table border=\"1\" class=\"dataframe\">\n",
       "  <thead>\n",
       "    <tr style=\"text-align: right;\">\n",
       "      <th></th>\n",
       "      <th>Average Heart Rate (bpm)</th>\n",
       "      <th>Time (min)</th>\n",
       "    </tr>\n",
       "    <tr>\n",
       "      <th>Count</th>\n",
       "      <th></th>\n",
       "      <th></th>\n",
       "    </tr>\n",
       "  </thead>\n",
       "  <tbody>\n",
       "    <tr>\n",
       "      <th>1</th>\n",
       "      <td>151</td>\n",
       "      <td>20</td>\n",
       "    </tr>\n",
       "    <tr>\n",
       "      <th>2</th>\n",
       "      <td>150</td>\n",
       "      <td>30</td>\n",
       "    </tr>\n",
       "    <tr>\n",
       "      <th>3</th>\n",
       "      <td>149</td>\n",
       "      <td>30</td>\n",
       "    </tr>\n",
       "    <tr>\n",
       "      <th>4</th>\n",
       "      <td>144</td>\n",
       "      <td>30</td>\n",
       "    </tr>\n",
       "    <tr>\n",
       "      <th>5</th>\n",
       "      <td>143</td>\n",
       "      <td>30</td>\n",
       "    </tr>\n",
       "  </tbody>\n",
       "</table>\n",
       "</div>"
      ],
      "text/plain": [
       "       Average Heart Rate (bpm)  Time (min)\n",
       "Count                                      \n",
       "1                           151          20\n",
       "2                           150          30\n",
       "3                           149          30\n",
       "4                           144          30\n",
       "5                           143          30"
      ]
     },
     "execution_count": 23,
     "metadata": {},
     "output_type": "execute_result"
    }
   ],
   "source": [
    "CE = HR_Test.loc[HR_Test['Type']=='Cardio: Elliptical']\n",
    "#resets index\n",
    "CE = CE.reset_index(drop=True)\n",
    "#Drop unessecary columns\n",
    "CE = CE.drop(['Workout', 'Date', 'Type'], axis=1)\n",
    "#Set the index to the count\n",
    "CE = CE.set_index('Count')\n",
    "CE"
   ]
  },
  {
   "cell_type": "code",
   "execution_count": null,
   "metadata": {},
   "outputs": [],
   "source": [
    "CE = HR_Test.loc[HR_Test['Type']=='Cardio: Elliptical']\n",
    "#resets index\n",
    "CE = CE.reset_index(drop=True)\n",
    "CE = CE.set_index('Workout')\n",
    "#Finds the correlation between Average Heart Rate over multiple workouts, \n",
    "CE_Corr = CE['Count'].corr(CE['Average Heart Rate (bpm)'])\n",
    "CE_Corr = \"{:.2f}\".format(CE_Corr )\n",
    "print('The correlation of Average Heart Rate for elliptical over multiple workouts is ' + str(CE_Corr))"
   ]
  },
  {
   "cell_type": "markdown",
   "metadata": {},
   "source": [
    "    Cardio: Treadmill"
   ]
  },
  {
   "cell_type": "code",
   "execution_count": 24,
   "metadata": {},
   "outputs": [
    {
     "data": {
      "text/html": [
       "<div>\n",
       "<style scoped>\n",
       "    .dataframe tbody tr th:only-of-type {\n",
       "        vertical-align: middle;\n",
       "    }\n",
       "\n",
       "    .dataframe tbody tr th {\n",
       "        vertical-align: top;\n",
       "    }\n",
       "\n",
       "    .dataframe thead th {\n",
       "        text-align: right;\n",
       "    }\n",
       "</style>\n",
       "<table border=\"1\" class=\"dataframe\">\n",
       "  <thead>\n",
       "    <tr style=\"text-align: right;\">\n",
       "      <th></th>\n",
       "      <th>Average Heart Rate (bpm)</th>\n",
       "      <th>Time (min)</th>\n",
       "    </tr>\n",
       "    <tr>\n",
       "      <th>Count</th>\n",
       "      <th></th>\n",
       "      <th></th>\n",
       "    </tr>\n",
       "  </thead>\n",
       "  <tbody>\n",
       "    <tr>\n",
       "      <th>1</th>\n",
       "      <td>136</td>\n",
       "      <td>25</td>\n",
       "    </tr>\n",
       "    <tr>\n",
       "      <th>2</th>\n",
       "      <td>127</td>\n",
       "      <td>30</td>\n",
       "    </tr>\n",
       "    <tr>\n",
       "      <th>3</th>\n",
       "      <td>134</td>\n",
       "      <td>30</td>\n",
       "    </tr>\n",
       "    <tr>\n",
       "      <th>4</th>\n",
       "      <td>132</td>\n",
       "      <td>30</td>\n",
       "    </tr>\n",
       "    <tr>\n",
       "      <th>5</th>\n",
       "      <td>128</td>\n",
       "      <td>30</td>\n",
       "    </tr>\n",
       "    <tr>\n",
       "      <th>6</th>\n",
       "      <td>126</td>\n",
       "      <td>30</td>\n",
       "    </tr>\n",
       "  </tbody>\n",
       "</table>\n",
       "</div>"
      ],
      "text/plain": [
       "       Average Heart Rate (bpm)  Time (min)\n",
       "Count                                      \n",
       "1                           136          25\n",
       "2                           127          30\n",
       "3                           134          30\n",
       "4                           132          30\n",
       "5                           128          30\n",
       "6                           126          30"
      ]
     },
     "execution_count": 24,
     "metadata": {},
     "output_type": "execute_result"
    }
   ],
   "source": [
    "CT = HR_Test.loc[HR_Test['Type']=='Cardio: Treadmill']\n",
    "#resets index\n",
    "CT = CT.reset_index(drop=True)\n",
    "#Drop unessecary columns\n",
    "CT = CT.drop(['Workout', 'Date', 'Type'], axis=1)\n",
    "#Set the index to the count\n",
    "CT = CT.set_index('Count')\n",
    "CT"
   ]
  },
  {
   "cell_type": "code",
   "execution_count": 25,
   "metadata": {},
   "outputs": [
    {
     "name": "stdout",
     "output_type": "stream",
     "text": [
      "The correlation of Average Heart Rate for treadmill over multiple workouts is -0.64\n"
     ]
    }
   ],
   "source": [
    "CT = HR_Test.loc[HR_Test['Type']=='Cardio: Treadmill']\n",
    "#resets index\n",
    "CT = CT.reset_index(drop=True)\n",
    "CT = CT.set_index('Workout')\n",
    "#Finds the correlation between Average Heart Rate over multiple workouts, \n",
    "CT_Corr = CT['Count'].corr(CT['Average Heart Rate (bpm)'])\n",
    "CT_Corr = \"{:.2f}\".format(CT_Corr)\n",
    "print('The correlation of Average Heart Rate for treadmill over multiple workouts is ' + str(CT_Corr))"
   ]
  },
  {
   "cell_type": "markdown",
   "metadata": {},
   "source": [
    "Pre Workout Test"
   ]
  },
  {
   "cell_type": "code",
   "execution_count": null,
   "metadata": {},
   "outputs": [],
   "source": [
    "PW_Test"
   ]
  },
  {
   "cell_type": "code",
   "execution_count": null,
   "metadata": {},
   "outputs": [],
   "source": [
    "#Allows Strings to be read as integers\n",
    "PW_Test['Pre Workout']=PW_Test['Pre Workout'].astype('category').cat.codes\n",
    "\n",
    "PW_Test.corr()"
   ]
  },
  {
   "cell_type": "code",
   "execution_count": null,
   "metadata": {},
   "outputs": [],
   "source": []
  }
 ],
 "metadata": {
  "kernelspec": {
   "display_name": "Python 3.9.12 ('base')",
   "language": "python",
   "name": "python3"
  },
  "language_info": {
   "codemirror_mode": {
    "name": "ipython",
    "version": 3
   },
   "file_extension": ".py",
   "mimetype": "text/x-python",
   "name": "python",
   "nbconvert_exporter": "python",
   "pygments_lexer": "ipython3",
   "version": "3.9.12"
  },
  "orig_nbformat": 4,
  "vscode": {
   "interpreter": {
    "hash": "41e7cfbe395d382b8898a9bc8c5e0ea0332222ed7e30be99f81ea933fa673d99"
   }
  }
 },
 "nbformat": 4,
 "nbformat_minor": 2
}
