{
 "cells": [
  {
   "cell_type": "markdown",
   "metadata": {},
   "source": [
    "Run First"
   ]
  },
  {
   "cell_type": "code",
   "execution_count": 1,
   "metadata": {},
   "outputs": [],
   "source": [
    "#Run this first before proceeding, this allows you to read the file and save it to a variable\n",
    "import pandas as pd\n",
    "#change file path to wherever you have the files\n",
    "path = r'/Users/benrivera/Desktop/Test/HRTest.csv'\n",
    "HR_Test= pd.read_csv(path)\n"
   ]
  },
  {
   "cell_type": "code",
   "execution_count": null,
   "metadata": {},
   "outputs": [],
   "source": [
    "%pip install -U scikit-learn"
   ]
  },
  {
   "cell_type": "code",
   "execution_count": 4,
   "metadata": {},
   "outputs": [],
   "source": [
    "#dependencies for the model\n",
    "\n",
    "import seaborn as Snapshot\n",
    "import numpy as np\n",
    "from sklearn.linear_model import LinearRegression\n",
    "from sklearn.model_selection import train_test_split\n",
    "\n"
   ]
  },
  {
   "cell_type": "code",
   "execution_count": null,
   "metadata": {},
   "outputs": [],
   "source": [
    "#more dependencies\n",
    "%pip install matplotlib\n",
    "import matplotlib.pyplot as plt"
   ]
  },
  {
   "cell_type": "markdown",
   "metadata": {},
   "source": [
    "    Weights Upper Body "
   ]
  },
  {
   "cell_type": "markdown",
   "metadata": {},
   "source": [
    "        Push"
   ]
  },
  {
   "cell_type": "code",
   "execution_count": 2,
   "metadata": {},
   "outputs": [
    {
     "data": {
      "text/html": [
       "<div>\n",
       "<style scoped>\n",
       "    .dataframe tbody tr th:only-of-type {\n",
       "        vertical-align: middle;\n",
       "    }\n",
       "\n",
       "    .dataframe tbody tr th {\n",
       "        vertical-align: top;\n",
       "    }\n",
       "\n",
       "    .dataframe thead th {\n",
       "        text-align: right;\n",
       "    }\n",
       "</style>\n",
       "<table border=\"1\" class=\"dataframe\">\n",
       "  <thead>\n",
       "    <tr style=\"text-align: right;\">\n",
       "      <th></th>\n",
       "      <th>Average Heart Rate (bpm)</th>\n",
       "      <th>Peak Heart Rate</th>\n",
       "      <th>Count</th>\n",
       "    </tr>\n",
       "  </thead>\n",
       "  <tbody>\n",
       "    <tr>\n",
       "      <th>0</th>\n",
       "      <td>118</td>\n",
       "      <td>167</td>\n",
       "      <td>1</td>\n",
       "    </tr>\n",
       "    <tr>\n",
       "      <th>1</th>\n",
       "      <td>102</td>\n",
       "      <td>124</td>\n",
       "      <td>2</td>\n",
       "    </tr>\n",
       "    <tr>\n",
       "      <th>2</th>\n",
       "      <td>100</td>\n",
       "      <td>137</td>\n",
       "      <td>3</td>\n",
       "    </tr>\n",
       "    <tr>\n",
       "      <th>3</th>\n",
       "      <td>107</td>\n",
       "      <td>132</td>\n",
       "      <td>4</td>\n",
       "    </tr>\n",
       "    <tr>\n",
       "      <th>4</th>\n",
       "      <td>99</td>\n",
       "      <td>127</td>\n",
       "      <td>5</td>\n",
       "    </tr>\n",
       "    <tr>\n",
       "      <th>5</th>\n",
       "      <td>99</td>\n",
       "      <td>133</td>\n",
       "      <td>6</td>\n",
       "    </tr>\n",
       "    <tr>\n",
       "      <th>6</th>\n",
       "      <td>103</td>\n",
       "      <td>131</td>\n",
       "      <td>7</td>\n",
       "    </tr>\n",
       "    <tr>\n",
       "      <th>7</th>\n",
       "      <td>99</td>\n",
       "      <td>127</td>\n",
       "      <td>8</td>\n",
       "    </tr>\n",
       "    <tr>\n",
       "      <th>8</th>\n",
       "      <td>110</td>\n",
       "      <td>141</td>\n",
       "      <td>9</td>\n",
       "    </tr>\n",
       "    <tr>\n",
       "      <th>9</th>\n",
       "      <td>109</td>\n",
       "      <td>143</td>\n",
       "      <td>10</td>\n",
       "    </tr>\n",
       "    <tr>\n",
       "      <th>10</th>\n",
       "      <td>102</td>\n",
       "      <td>130</td>\n",
       "      <td>11</td>\n",
       "    </tr>\n",
       "    <tr>\n",
       "      <th>11</th>\n",
       "      <td>108</td>\n",
       "      <td>133</td>\n",
       "      <td>12</td>\n",
       "    </tr>\n",
       "    <tr>\n",
       "      <th>12</th>\n",
       "      <td>114</td>\n",
       "      <td>140</td>\n",
       "      <td>13</td>\n",
       "    </tr>\n",
       "    <tr>\n",
       "      <th>13</th>\n",
       "      <td>110</td>\n",
       "      <td>133</td>\n",
       "      <td>14</td>\n",
       "    </tr>\n",
       "    <tr>\n",
       "      <th>14</th>\n",
       "      <td>110</td>\n",
       "      <td>132</td>\n",
       "      <td>15</td>\n",
       "    </tr>\n",
       "    <tr>\n",
       "      <th>15</th>\n",
       "      <td>103</td>\n",
       "      <td>123</td>\n",
       "      <td>16</td>\n",
       "    </tr>\n",
       "    <tr>\n",
       "      <th>16</th>\n",
       "      <td>103</td>\n",
       "      <td>133</td>\n",
       "      <td>17</td>\n",
       "    </tr>\n",
       "    <tr>\n",
       "      <th>17</th>\n",
       "      <td>111</td>\n",
       "      <td>131</td>\n",
       "      <td>18</td>\n",
       "    </tr>\n",
       "  </tbody>\n",
       "</table>\n",
       "</div>"
      ],
      "text/plain": [
       "    Average Heart Rate (bpm)  Peak Heart Rate  Count\n",
       "0                        118              167      1\n",
       "1                        102              124      2\n",
       "2                        100              137      3\n",
       "3                        107              132      4\n",
       "4                         99              127      5\n",
       "5                         99              133      6\n",
       "6                        103              131      7\n",
       "7                         99              127      8\n",
       "8                        110              141      9\n",
       "9                        109              143     10\n",
       "10                       102              130     11\n",
       "11                       108              133     12\n",
       "12                       114              140     13\n",
       "13                       110              133     14\n",
       "14                       110              132     15\n",
       "15                       103              123     16\n",
       "16                       103              133     17\n",
       "17                       111              131     18"
      ]
     },
     "execution_count": 2,
     "metadata": {},
     "output_type": "execute_result"
    }
   ],
   "source": [
    "#Creats a filter to only show workouts labeld as \"Weights: Push\"\n",
    "WPU = HR_Test.loc[HR_Test['Type']=='Weights: Push']\n",
    "#resets the index\n",
    "WPU = WPU.reset_index(drop=True)\n",
    "#set the index\n",
    "#WPU = WPU.set_index('Count')\n",
    "#drop the columns that are not necessary\n",
    "WPU = WPU.drop(['Workout', 'Date', 'Type', \"Time (min)\"], axis=1)\n",
    "\n",
    "WPU"
   ]
  },
  {
   "cell_type": "code",
   "execution_count": 5,
   "metadata": {},
   "outputs": [
    {
     "name": "stdout",
     "output_type": "stream",
     "text": [
      "Predicted average heart rate for the next few workouts are: [111.14303663 100.55251119 110.67394736 117.00662028 105.61322928]\n"
     ]
    }
   ],
   "source": [
    "\n",
    "#Creating a prediction model that shows the potential future heart rates\n",
    "train = WPU.drop(['Average Heart Rate (bpm)'], axis=1)\n",
    "#Sets what is being predicted\n",
    "test = WPU['Average Heart Rate (bpm)']\n",
    "#splits data\n",
    "X_train, X_test, y_train, y_test = train_test_split(train, test, test_size =.25, random_state = 2)\n",
    "\n",
    "regr = LinearRegression()\n",
    "\n",
    "regr.fit(X_train, y_train)\n",
    "\n",
    "pred = regr.predict(X_test)\n",
    "\n",
    "print(\"Predicted average heart rate for the next few workouts are:\",pred)\n"
   ]
  },
  {
   "cell_type": "code",
   "execution_count": 6,
   "metadata": {},
   "outputs": [
    {
     "name": "stdout",
     "output_type": "stream",
     "text": [
      "The regression model has an accuracy of 64.76%\n"
     ]
    }
   ],
   "source": [
    "#shows the accuracy of the predition model\n",
    "acc =regr.score(X_test, y_test)\n",
    "#this turns it from a decimal to a percentage\n",
    "acc = acc*100\n",
    "#this prevents it from going beyond two decimal places\n",
    "acc = \"{:.2f}\".format(acc)\n",
    "\n",
    "print('The regression model has an accuracy of ' + acc + \"%\")"
   ]
  },
  {
   "cell_type": "code",
   "execution_count": null,
   "metadata": {},
   "outputs": [],
   "source": [
    "#plots the results\n",
    "plt.plot(pred)\n",
    "\n",
    "#changes the title for the x-axis\n",
    "plt.xlabel(\"Next Few Workouts\")\n",
    "#changes the title for the y-axis\n",
    "plt.ylabel(\"Predicted Average Heart Rate\")\n",
    "\n",
    "\n",
    "\n",
    "plt.xticks(np.arange(1, len(pred)+1, 1))"
   ]
  },
  {
   "cell_type": "code",
   "execution_count": 8,
   "metadata": {},
   "outputs": [
    {
     "name": "stdout",
     "output_type": "stream",
     "text": [
      "The correlation of Average Heart Rate for pull weights over multiple workouts is 0.20\n"
     ]
    }
   ],
   "source": [
    "#Allows us to see evaluate the average hearts rate of push workouts by filtering only those types\n",
    "WPU = HR_Test.loc[HR_Test['Type']=='Weights: Push']\n",
    "#resets the index\n",
    "WPU = WPU.reset_index(drop=True)\n",
    "WPU = WPU.set_index('Workout')\n",
    "#Allows us to put Date into the correlation function\n",
    "WPU['Date']=WPU['Date'].astype('category').cat.codes\n",
    "#Finds the correlation between Average Heart Rate over multiple workouts, \n",
    "WPU_Corr = WPU['Count'].corr(WPU['Average Heart Rate (bpm)'])\n",
    "WPU_Corr = \"{:.2f}\".format(WPU_Corr)\n",
    "print('The correlation of Average Heart Rate for pull weights over multiple workouts is ' + str(WPU_Corr))"
   ]
  },
  {
   "cell_type": "markdown",
   "metadata": {},
   "source": [
    "        Pull"
   ]
  },
  {
   "cell_type": "code",
   "execution_count": null,
   "metadata": {},
   "outputs": [],
   "source": [
    "#Creats a filter to only show workouts labeld as \"Weights: Pull\"\n",
    "WPL = HR_Test.loc[HR_Test['Type']=='Weights: Pull']\n",
    "#resets the index\n",
    "WPL = WPL.reset_index(drop=True)\n",
    "#Drop unessecary columns\n",
    "WPL = WPL.drop(['Workout', 'Date', 'Type'], axis=1)\n",
    "#Set the index to the count\n",
    "#WPL = WPL.set_index('Count')\n",
    "WPL"
   ]
  },
  {
   "cell_type": "code",
   "execution_count": null,
   "metadata": {},
   "outputs": [],
   "source": [
    "#Creating a prediction model that shows the potential future heart rates\n",
    "train = WPL.drop(['Average Heart Rate (bpm)'], axis=1)\n",
    "#Sets what is being predicted\n",
    "test = WPL['Average Heart Rate (bpm)']\n",
    "#splits data\n",
    "X_train, X_test, y_train, y_test = train_test_split(train, test, test_size =.25, random_state = 2)\n",
    "\n",
    "regr = LinearRegression()\n",
    "\n",
    "regr.fit(X_train, y_train)\n",
    "#Makes the predition through a regression model\n",
    "pred = regr.predict(X_test)\n",
    "#Prints out the results\n",
    "print(\"Predicted average heart rate for the next few workouts are:\",pred)"
   ]
  },
  {
   "cell_type": "code",
   "execution_count": 7,
   "metadata": {},
   "outputs": [
    {
     "name": "stdout",
     "output_type": "stream",
     "text": [
      "The regression model has an accuracy of 64.76%\n"
     ]
    }
   ],
   "source": [
    "#shows the accuracy of the predition model\n",
    "acc =regr.score(X_test, y_test)\n",
    "#this turns it from a decimal to a percentage\n",
    "acc = acc*100\n",
    "#this prevents it from going beyond two decimal places\n",
    "acc = \"{:.2f}\".format(acc)\n",
    "#Prints out the accuracy\n",
    "print('The regression model has an accuracy of ' + acc + \"%\")"
   ]
  },
  {
   "cell_type": "code",
   "execution_count": null,
   "metadata": {},
   "outputs": [],
   "source": [
    "#plots the results\n",
    "plt.plot(pred)\n",
    "\n",
    "#changes the title for the x-axis\n",
    "plt.xlabel(\"Next Few Workouts\")\n",
    "#changes the title for the y-axis\n",
    "plt.ylabel(\"Predicted Average Heart Rate\")\n",
    "#adds the desired tick marks on the x=axis\n",
    "plt.xticks(np.arange(1, len(pred)+1, 1))"
   ]
  },
  {
   "cell_type": "code",
   "execution_count": null,
   "metadata": {},
   "outputs": [],
   "source": [
    "#Allows us to see evaluate the average hearts rate of pull workouts by filtering only those types\n",
    "WPL = HR_Test.loc[HR_Test['Type']=='Weights: Pull']\n",
    "#resets the index\n",
    "WPL = WPL.reset_index(drop=True)\n",
    "WPL = WPL.set_index('Workout')\n",
    "#Finds the correlation between Average Heart Rate over multiple workouts, \n",
    "WPL_Corr = WPL['Count'].corr(WPL['Average Heart Rate (bpm)'])\n",
    "WPL_Corr = \"{:.2f}\".format(WPL_Corr )\n",
    "print('The correlation of Average Heart Rate for pull weights over multiple workouts is ' + str(WPL_Corr))"
   ]
  },
  {
   "cell_type": "markdown",
   "metadata": {},
   "source": [
    "    Weigths: Lower Body "
   ]
  },
  {
   "cell_type": "code",
   "execution_count": null,
   "metadata": {},
   "outputs": [],
   "source": [
    "WLB = HR_Test.loc[HR_Test['Type']=='Weights: Legs']\n",
    "#resets index\n",
    "WLB = WLB.reset_index(drop=True)\n",
    "#Drop unessecary columns\n",
    "WLB = WLB.drop(['Workout', 'Date', 'Type'], axis=1)\n",
    "\n",
    "\n",
    "WLB"
   ]
  },
  {
   "cell_type": "code",
   "execution_count": null,
   "metadata": {},
   "outputs": [],
   "source": [
    "#Creating a prediction model that shows the potential future heart rates\n",
    "train = WLB.drop(['Average Heart Rate (bpm)'], axis=1)\n",
    "#Sets what is being predicted\n",
    "test = WLB['Average Heart Rate (bpm)']\n",
    "#splits data\n",
    "X_train, X_test, y_train, y_test = train_test_split(train, test, test_size =.25, random_state = 2)\n",
    "\n",
    "regr = LinearRegression()\n",
    "\n",
    "regr.fit(X_train, y_train)\n",
    "#Makes the predition through a regression model\n",
    "pred = regr.predict(X_test)\n",
    "#Prints out the results\n",
    "print(\"Predicted average heart rate for the next few workouts are:\",pred)"
   ]
  },
  {
   "cell_type": "code",
   "execution_count": null,
   "metadata": {},
   "outputs": [],
   "source": [
    "#shows the accuracy of the predition model\n",
    "acc =regr.score(X_test, y_test)\n",
    "#this turns it from a decimal to a percentage\n",
    "acc = acc*100\n",
    "#this prevents it from going beyond two decimal places\n",
    "acc = \"{:.2f}\".format(acc)\n",
    "#Prints out the accuracy\n",
    "print('The regression model has an accuracy of ' + acc + \"%\")"
   ]
  },
  {
   "cell_type": "code",
   "execution_count": null,
   "metadata": {},
   "outputs": [],
   "source": [
    "#plots the results\n",
    "plt.plot(pred)\n",
    "\n",
    "#changes the title for the x-axis\n",
    "plt.xlabel(\"Next Few Workouts\")\n",
    "#changes the title for the y-axis\n",
    "plt.ylabel(\"Predicted Average Heart Rate\")\n",
    "#adds the desired tick marks on the x=axis\n",
    "plt.xticks(np.arange(1, len(pred)+1, 1))"
   ]
  },
  {
   "cell_type": "code",
   "execution_count": null,
   "metadata": {},
   "outputs": [],
   "source": [
    "WLB = HR_Test.loc[HR_Test['Type']=='Weights: Legs']\n",
    "#resets index\n",
    "WLB = WLB.reset_index(drop=True)\n",
    "WLB = WLB.set_index('Workout')\n",
    "#Finds the correlation between Average Heart Rate over multiple workouts, \n",
    "WLB_Corr = WLB['Count'].corr(WLB['Average Heart Rate (bpm)'])\n",
    "WLB_Corr = \"{:.2f}\".format(WLB_Corr )\n",
    "print('The correlation of Average Heart Rate for leg weights over multiple workouts is ' + str(WLB_Corr))"
   ]
  }
 ],
 "metadata": {
  "kernelspec": {
   "display_name": "Python 3.9.12",
   "language": "python",
   "name": "python3"
  },
  "language_info": {
   "codemirror_mode": {
    "name": "ipython",
    "version": 3
   },
   "file_extension": ".py",
   "mimetype": "text/x-python",
   "name": "python",
   "nbconvert_exporter": "python",
   "pygments_lexer": "ipython3",
   "version": "3.9.13"
  },
  "orig_nbformat": 4,
  "vscode": {
   "interpreter": {
    "hash": "3a182e13e6ea85b9b2aa1f86783488cbad368f5313749c2a510bbbb6059f4c75"
   }
  }
 },
 "nbformat": 4,
 "nbformat_minor": 2
}
