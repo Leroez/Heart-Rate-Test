{
 "cells": [
  {
   "cell_type": "code",
   "execution_count": 9,
   "metadata": {},
   "outputs": [],
   "source": [
    "#Run this first before proceeding, this allows you to read the file and save it to a variable\n",
    "import pandas as pd\n",
    "#change file path to wherever you have the files\n",
    "path = r'/Users/benrivera/Desktop/Test/HRTest.csv'\n",
    "HR_Test= pd.read_csv(path)\n",
    "path2 = r'/Users/benrivera/Desktop/Test/PWTest.csv'\n",
    "PW_Test = pd.read_csv(path2)\n",
    "\n"
   ]
  },
  {
   "cell_type": "markdown",
   "metadata": {},
   "source": [
    "    Weights Upper Body "
   ]
  },
  {
   "cell_type": "markdown",
   "metadata": {},
   "source": [
    "        Push"
   ]
  },
  {
   "cell_type": "code",
   "execution_count": 14,
   "metadata": {},
   "outputs": [
    {
     "data": {
      "text/html": [
       "<div>\n",
       "<style scoped>\n",
       "    .dataframe tbody tr th:only-of-type {\n",
       "        vertical-align: middle;\n",
       "    }\n",
       "\n",
       "    .dataframe tbody tr th {\n",
       "        vertical-align: top;\n",
       "    }\n",
       "\n",
       "    .dataframe thead th {\n",
       "        text-align: right;\n",
       "    }\n",
       "</style>\n",
       "<table border=\"1\" class=\"dataframe\">\n",
       "  <thead>\n",
       "    <tr style=\"text-align: right;\">\n",
       "      <th></th>\n",
       "      <th>Average Heart Rate (bpm)</th>\n",
       "      <th>Peak Heart Rate</th>\n",
       "      <th>Count</th>\n",
       "    </tr>\n",
       "  </thead>\n",
       "  <tbody>\n",
       "    <tr>\n",
       "      <th>0</th>\n",
       "      <td>118</td>\n",
       "      <td>167</td>\n",
       "      <td>1</td>\n",
       "    </tr>\n",
       "    <tr>\n",
       "      <th>1</th>\n",
       "      <td>102</td>\n",
       "      <td>124</td>\n",
       "      <td>2</td>\n",
       "    </tr>\n",
       "    <tr>\n",
       "      <th>2</th>\n",
       "      <td>100</td>\n",
       "      <td>137</td>\n",
       "      <td>3</td>\n",
       "    </tr>\n",
       "    <tr>\n",
       "      <th>3</th>\n",
       "      <td>107</td>\n",
       "      <td>132</td>\n",
       "      <td>4</td>\n",
       "    </tr>\n",
       "    <tr>\n",
       "      <th>4</th>\n",
       "      <td>99</td>\n",
       "      <td>127</td>\n",
       "      <td>5</td>\n",
       "    </tr>\n",
       "    <tr>\n",
       "      <th>5</th>\n",
       "      <td>99</td>\n",
       "      <td>133</td>\n",
       "      <td>6</td>\n",
       "    </tr>\n",
       "    <tr>\n",
       "      <th>6</th>\n",
       "      <td>103</td>\n",
       "      <td>131</td>\n",
       "      <td>7</td>\n",
       "    </tr>\n",
       "    <tr>\n",
       "      <th>7</th>\n",
       "      <td>99</td>\n",
       "      <td>127</td>\n",
       "      <td>8</td>\n",
       "    </tr>\n",
       "    <tr>\n",
       "      <th>8</th>\n",
       "      <td>110</td>\n",
       "      <td>141</td>\n",
       "      <td>9</td>\n",
       "    </tr>\n",
       "    <tr>\n",
       "      <th>9</th>\n",
       "      <td>109</td>\n",
       "      <td>143</td>\n",
       "      <td>10</td>\n",
       "    </tr>\n",
       "    <tr>\n",
       "      <th>10</th>\n",
       "      <td>102</td>\n",
       "      <td>130</td>\n",
       "      <td>11</td>\n",
       "    </tr>\n",
       "    <tr>\n",
       "      <th>11</th>\n",
       "      <td>108</td>\n",
       "      <td>133</td>\n",
       "      <td>12</td>\n",
       "    </tr>\n",
       "    <tr>\n",
       "      <th>12</th>\n",
       "      <td>114</td>\n",
       "      <td>140</td>\n",
       "      <td>13</td>\n",
       "    </tr>\n",
       "    <tr>\n",
       "      <th>13</th>\n",
       "      <td>110</td>\n",
       "      <td>133</td>\n",
       "      <td>14</td>\n",
       "    </tr>\n",
       "  </tbody>\n",
       "</table>\n",
       "</div>"
      ],
      "text/plain": [
       "    Average Heart Rate (bpm)  Peak Heart Rate  Count\n",
       "0                        118              167      1\n",
       "1                        102              124      2\n",
       "2                        100              137      3\n",
       "3                        107              132      4\n",
       "4                         99              127      5\n",
       "5                         99              133      6\n",
       "6                        103              131      7\n",
       "7                         99              127      8\n",
       "8                        110              141      9\n",
       "9                        109              143     10\n",
       "10                       102              130     11\n",
       "11                       108              133     12\n",
       "12                       114              140     13\n",
       "13                       110              133     14"
      ]
     },
     "execution_count": 14,
     "metadata": {},
     "output_type": "execute_result"
    }
   ],
   "source": [
    "#Creats a filter to only show workouts labeld as \"Weights: Push\"\n",
    "WPU = HR_Test.loc[HR_Test['Type']=='Weights: Push']\n",
    "#resets the index\n",
    "WPU = WPU.reset_index(drop=True)\n",
    "#set the index\n",
    "#WPU = WPU.set_index('Count')\n",
    "#drop the columns that are not necessary\n",
    "WPU = WPU.drop(['Workout', 'Date', 'Type', \"Time (min)\"], axis=1)\n",
    "\n",
    "WPU"
   ]
  },
  {
   "cell_type": "code",
   "execution_count": 15,
   "metadata": {},
   "outputs": [],
   "source": [
    "#dependencies for the model\n",
    "import pandas as pd\n",
    "import seaborn as Snapshot\n",
    "import numpy as np\n",
    "from sklearn.linear_model import LinearRegression\n",
    "from sklearn.model_selection import train_test_split\n",
    "\n"
   ]
  },
  {
   "cell_type": "code",
   "execution_count": 19,
   "metadata": {},
   "outputs": [
    {
     "data": {
      "text/html": [
       "<div>\n",
       "<style scoped>\n",
       "    .dataframe tbody tr th:only-of-type {\n",
       "        vertical-align: middle;\n",
       "    }\n",
       "\n",
       "    .dataframe tbody tr th {\n",
       "        vertical-align: top;\n",
       "    }\n",
       "\n",
       "    .dataframe thead th {\n",
       "        text-align: right;\n",
       "    }\n",
       "</style>\n",
       "<table border=\"1\" class=\"dataframe\">\n",
       "  <thead>\n",
       "    <tr style=\"text-align: right;\">\n",
       "      <th></th>\n",
       "      <th>Peak Heart Rate</th>\n",
       "      <th>Count</th>\n",
       "    </tr>\n",
       "  </thead>\n",
       "  <tbody>\n",
       "    <tr>\n",
       "      <th>0</th>\n",
       "      <td>167</td>\n",
       "      <td>1</td>\n",
       "    </tr>\n",
       "    <tr>\n",
       "      <th>1</th>\n",
       "      <td>124</td>\n",
       "      <td>2</td>\n",
       "    </tr>\n",
       "    <tr>\n",
       "      <th>2</th>\n",
       "      <td>137</td>\n",
       "      <td>3</td>\n",
       "    </tr>\n",
       "    <tr>\n",
       "      <th>3</th>\n",
       "      <td>132</td>\n",
       "      <td>4</td>\n",
       "    </tr>\n",
       "    <tr>\n",
       "      <th>4</th>\n",
       "      <td>127</td>\n",
       "      <td>5</td>\n",
       "    </tr>\n",
       "    <tr>\n",
       "      <th>5</th>\n",
       "      <td>133</td>\n",
       "      <td>6</td>\n",
       "    </tr>\n",
       "    <tr>\n",
       "      <th>6</th>\n",
       "      <td>131</td>\n",
       "      <td>7</td>\n",
       "    </tr>\n",
       "    <tr>\n",
       "      <th>7</th>\n",
       "      <td>127</td>\n",
       "      <td>8</td>\n",
       "    </tr>\n",
       "    <tr>\n",
       "      <th>8</th>\n",
       "      <td>141</td>\n",
       "      <td>9</td>\n",
       "    </tr>\n",
       "    <tr>\n",
       "      <th>9</th>\n",
       "      <td>143</td>\n",
       "      <td>10</td>\n",
       "    </tr>\n",
       "    <tr>\n",
       "      <th>10</th>\n",
       "      <td>130</td>\n",
       "      <td>11</td>\n",
       "    </tr>\n",
       "    <tr>\n",
       "      <th>11</th>\n",
       "      <td>133</td>\n",
       "      <td>12</td>\n",
       "    </tr>\n",
       "    <tr>\n",
       "      <th>12</th>\n",
       "      <td>140</td>\n",
       "      <td>13</td>\n",
       "    </tr>\n",
       "    <tr>\n",
       "      <th>13</th>\n",
       "      <td>133</td>\n",
       "      <td>14</td>\n",
       "    </tr>\n",
       "  </tbody>\n",
       "</table>\n",
       "</div>"
      ],
      "text/plain": [
       "    Peak Heart Rate  Count\n",
       "0               167      1\n",
       "1               124      2\n",
       "2               137      3\n",
       "3               132      4\n",
       "4               127      5\n",
       "5               133      6\n",
       "6               131      7\n",
       "7               127      8\n",
       "8               141      9\n",
       "9               143     10\n",
       "10              130     11\n",
       "11              133     12\n",
       "12              140     13\n",
       "13              133     14"
      ]
     },
     "execution_count": 19,
     "metadata": {},
     "output_type": "execute_result"
    }
   ],
   "source": [
    "train = WPU.drop(['Average Heart Rate (bpm)'], axis=1)\n",
    "\n",
    "test = WPU['Average Heart Rate (bpm)']\n",
    "train"
   ]
  },
  {
   "cell_type": "code",
   "execution_count": 67,
   "metadata": {},
   "outputs": [
    {
     "data": {
      "text/plain": [
       "array([107.2389597 , 101.24415591, 104.21214565, 115.64975143])"
      ]
     },
     "execution_count": 67,
     "metadata": {},
     "output_type": "execute_result"
    }
   ],
   "source": [
    "\n",
    "train = WPU.drop(['Average Heart Rate (bpm)'], axis=1)\n",
    "#Sets what is being predicted\n",
    "test = WPU['Average Heart Rate (bpm)']\n",
    "#splits data\n",
    "X_train, X_test, y_train, y_test = train_test_split(train, test, test_size =.25, random_state = 2)\n",
    "\n",
    "regr = LinearRegression()\n",
    "\n",
    "regr.fit(X_train, y_train)\n",
    "\n",
    "pred = regr.predict(X_test)\n",
    "pred"
   ]
  },
  {
   "cell_type": "code",
   "execution_count": 68,
   "metadata": {},
   "outputs": [
    {
     "data": {
      "text/plain": [
       "0.8442863871764705"
      ]
     },
     "execution_count": 68,
     "metadata": {},
     "output_type": "execute_result"
    }
   ],
   "source": [
    "#shows the accuracy of the predition model\n",
    "regr.score(X_test, y_test)"
   ]
  },
  {
   "cell_type": "code",
   "execution_count": null,
   "metadata": {},
   "outputs": [
    {
     "data": {
      "text/plain": [
       "5.836199490232999"
      ]
     },
     "execution_count": 13,
     "metadata": {},
     "output_type": "execute_result"
    }
   ],
   "source": [
    "import numpy as np\n",
    "\n",
    "#finds the standard deviation of heart rates\n",
    "stdWPU= np.std(WPU[\"Average Heart Rate (bpm)\"])\n",
    "#plan to remove the ones that don't might be outliers\n",
    "\n",
    "stdWPU"
   ]
  },
  {
   "cell_type": "code",
   "execution_count": null,
   "metadata": {},
   "outputs": [
    {
     "name": "stdout",
     "output_type": "stream",
     "text": [
      "The correlation of Average Heart Rate for pull weights over multiple workouts is 0.22\n"
     ]
    }
   ],
   "source": [
    "#Allows us to see evaluate the average hearts rate of push workouts by filtering only those types\n",
    "WPU = HR_Test.loc[HR_Test['Type']=='Weights: Push']\n",
    "#resets the index\n",
    "WPU = WPU.reset_index(drop=True)\n",
    "WPU = WPU.set_index('Workout')\n",
    "#Allows us to put Date into the correlation function\n",
    "WPU['Date']=WPU['Date'].astype('category').cat.codes\n",
    "#Finds the correlation between Average Heart Rate over multiple workouts, \n",
    "WPU_Corr = WPU['Count'].corr(WPU['Average Heart Rate (bpm)'])\n",
    "WPU_Corr = \"{:.2f}\".format(WPU_Corr)\n",
    "print('The correlation of Average Heart Rate for pull weights over multiple workouts is ' + str(WPU_Corr))"
   ]
  },
  {
   "cell_type": "markdown",
   "metadata": {},
   "source": [
    "        Pull"
   ]
  },
  {
   "cell_type": "code",
   "execution_count": null,
   "metadata": {},
   "outputs": [
    {
     "data": {
      "text/html": [
       "<div>\n",
       "<style scoped>\n",
       "    .dataframe tbody tr th:only-of-type {\n",
       "        vertical-align: middle;\n",
       "    }\n",
       "\n",
       "    .dataframe tbody tr th {\n",
       "        vertical-align: top;\n",
       "    }\n",
       "\n",
       "    .dataframe thead th {\n",
       "        text-align: right;\n",
       "    }\n",
       "</style>\n",
       "<table border=\"1\" class=\"dataframe\">\n",
       "  <thead>\n",
       "    <tr style=\"text-align: right;\">\n",
       "      <th></th>\n",
       "      <th>Average Heart Rate (bpm)</th>\n",
       "      <th>Peak Heart Rate</th>\n",
       "      <th>Time (min)</th>\n",
       "    </tr>\n",
       "    <tr>\n",
       "      <th>Count</th>\n",
       "      <th></th>\n",
       "      <th></th>\n",
       "      <th></th>\n",
       "    </tr>\n",
       "  </thead>\n",
       "  <tbody>\n",
       "    <tr>\n",
       "      <th>1</th>\n",
       "      <td>114</td>\n",
       "      <td>150</td>\n",
       "      <td>45</td>\n",
       "    </tr>\n",
       "    <tr>\n",
       "      <th>2</th>\n",
       "      <td>105</td>\n",
       "      <td>134</td>\n",
       "      <td>40</td>\n",
       "    </tr>\n",
       "    <tr>\n",
       "      <th>3</th>\n",
       "      <td>118</td>\n",
       "      <td>156</td>\n",
       "      <td>45</td>\n",
       "    </tr>\n",
       "    <tr>\n",
       "      <th>4</th>\n",
       "      <td>120</td>\n",
       "      <td>152</td>\n",
       "      <td>40</td>\n",
       "    </tr>\n",
       "    <tr>\n",
       "      <th>5</th>\n",
       "      <td>112</td>\n",
       "      <td>137</td>\n",
       "      <td>39</td>\n",
       "    </tr>\n",
       "    <tr>\n",
       "      <th>6</th>\n",
       "      <td>111</td>\n",
       "      <td>131</td>\n",
       "      <td>35</td>\n",
       "    </tr>\n",
       "    <tr>\n",
       "      <th>7</th>\n",
       "      <td>118</td>\n",
       "      <td>143</td>\n",
       "      <td>36</td>\n",
       "    </tr>\n",
       "    <tr>\n",
       "      <th>8</th>\n",
       "      <td>106</td>\n",
       "      <td>130</td>\n",
       "      <td>38</td>\n",
       "    </tr>\n",
       "    <tr>\n",
       "      <th>9</th>\n",
       "      <td>118</td>\n",
       "      <td>141</td>\n",
       "      <td>33</td>\n",
       "    </tr>\n",
       "  </tbody>\n",
       "</table>\n",
       "</div>"
      ],
      "text/plain": [
       "       Average Heart Rate (bpm)  Peak Heart Rate  Time (min)\n",
       "Count                                                       \n",
       "1                           114              150          45\n",
       "2                           105              134          40\n",
       "3                           118              156          45\n",
       "4                           120              152          40\n",
       "5                           112              137          39\n",
       "6                           111              131          35\n",
       "7                           118              143          36\n",
       "8                           106              130          38\n",
       "9                           118              141          33"
      ]
     },
     "execution_count": 7,
     "metadata": {},
     "output_type": "execute_result"
    }
   ],
   "source": [
    "#Creats a filter to only show workouts labeld as \"Weights: Pull\"\n",
    "WPL = HR_Test.loc[HR_Test['Type']=='Weights: Pull']\n",
    "#resets the index\n",
    "WPL = WPL.reset_index(drop=True)\n",
    "#Drop unessecary columns\n",
    "WPL = WPL.drop(['Workout', 'Date', 'Type'], axis=1)\n",
    "#Set the index to the count\n",
    "WPL = WPL.set_index('Count')\n",
    "WPL"
   ]
  },
  {
   "cell_type": "code",
   "execution_count": null,
   "metadata": {},
   "outputs": [
    {
     "name": "stdout",
     "output_type": "stream",
     "text": [
      "The correlation of Average Heart Rate for pull weights over multiple workouts is 0.08\n"
     ]
    }
   ],
   "source": [
    "#Allows us to see evaluate the average hearts rate of pull workouts by filtering only those types\n",
    "WPL = HR_Test.loc[HR_Test['Type']=='Weights: Pull']\n",
    "#resets the index\n",
    "WPL = WPL.reset_index(drop=True)\n",
    "WPL = WPL.set_index('Workout')\n",
    "#Finds the correlation between Average Heart Rate over multiple workouts, \n",
    "WPL_Corr = WPL['Count'].corr(WPL['Average Heart Rate (bpm)'])\n",
    "WPL_Corr = \"{:.2f}\".format(WPL_Corr )\n",
    "print('The correlation of Average Heart Rate for pull weights over multiple workouts is ' + str(WPL_Corr))"
   ]
  },
  {
   "cell_type": "markdown",
   "metadata": {},
   "source": [
    "    Weigths: Lower Body "
   ]
  },
  {
   "cell_type": "code",
   "execution_count": null,
   "metadata": {},
   "outputs": [
    {
     "data": {
      "text/html": [
       "<div>\n",
       "<style scoped>\n",
       "    .dataframe tbody tr th:only-of-type {\n",
       "        vertical-align: middle;\n",
       "    }\n",
       "\n",
       "    .dataframe tbody tr th {\n",
       "        vertical-align: top;\n",
       "    }\n",
       "\n",
       "    .dataframe thead th {\n",
       "        text-align: right;\n",
       "    }\n",
       "</style>\n",
       "<table border=\"1\" class=\"dataframe\">\n",
       "  <thead>\n",
       "    <tr style=\"text-align: right;\">\n",
       "      <th></th>\n",
       "      <th>Average Heart Rate (bpm)</th>\n",
       "      <th>Time (min)</th>\n",
       "    </tr>\n",
       "    <tr>\n",
       "      <th>Count</th>\n",
       "      <th></th>\n",
       "      <th></th>\n",
       "    </tr>\n",
       "  </thead>\n",
       "  <tbody>\n",
       "    <tr>\n",
       "      <th>1</th>\n",
       "      <td>134</td>\n",
       "      <td>45</td>\n",
       "    </tr>\n",
       "    <tr>\n",
       "      <th>2</th>\n",
       "      <td>138</td>\n",
       "      <td>50</td>\n",
       "    </tr>\n",
       "    <tr>\n",
       "      <th>3</th>\n",
       "      <td>124</td>\n",
       "      <td>35</td>\n",
       "    </tr>\n",
       "    <tr>\n",
       "      <th>4</th>\n",
       "      <td>112</td>\n",
       "      <td>40</td>\n",
       "    </tr>\n",
       "    <tr>\n",
       "      <th>5</th>\n",
       "      <td>135</td>\n",
       "      <td>30</td>\n",
       "    </tr>\n",
       "  </tbody>\n",
       "</table>\n",
       "</div>"
      ],
      "text/plain": [
       "       Average Heart Rate (bpm)  Time (min)\n",
       "Count                                      \n",
       "1                           134          45\n",
       "2                           138          50\n",
       "3                           124          35\n",
       "4                           112          40\n",
       "5                           135          30"
      ]
     },
     "execution_count": 22,
     "metadata": {},
     "output_type": "execute_result"
    }
   ],
   "source": [
    "WLB = HR_Test.loc[HR_Test['Type']=='Weights: Legs']\n",
    "#resets index\n",
    "WLB = WLB.reset_index(drop=True)\n",
    "#Drop unessecary columns\n",
    "WLB = WLB.drop(['Workout', 'Date', 'Type'], axis=1)\n",
    "#Set the index to the count\n",
    "WLB = WLB.set_index('Count')\n",
    "\n",
    "WLB"
   ]
  },
  {
   "cell_type": "code",
   "execution_count": null,
   "metadata": {},
   "outputs": [],
   "source": [
    "WLB = HR_Test.loc[HR_Test['Type']=='Weights: Legs']\n",
    "#resets index\n",
    "WLB = WLB.reset_index(drop=True)\n",
    "WLB = WLB.set_index('Workout')\n",
    "#Finds the correlation between Average Heart Rate over multiple workouts, \n",
    "WLB_Corr = WLB['Count'].corr(WLB['Average Heart Rate (bpm)'])\n",
    "WLB_Corr = \"{:.2f}\".format(WLB_Corr )\n",
    "print('The correlation of Average Heart Rate for leg weights over multiple workouts is ' + str(WLB_Corr))"
   ]
  },
  {
   "cell_type": "markdown",
   "metadata": {},
   "source": [
    "    Cardio: Elliptical"
   ]
  },
  {
   "cell_type": "code",
   "execution_count": null,
   "metadata": {},
   "outputs": [
    {
     "data": {
      "text/html": [
       "<div>\n",
       "<style scoped>\n",
       "    .dataframe tbody tr th:only-of-type {\n",
       "        vertical-align: middle;\n",
       "    }\n",
       "\n",
       "    .dataframe tbody tr th {\n",
       "        vertical-align: top;\n",
       "    }\n",
       "\n",
       "    .dataframe thead th {\n",
       "        text-align: right;\n",
       "    }\n",
       "</style>\n",
       "<table border=\"1\" class=\"dataframe\">\n",
       "  <thead>\n",
       "    <tr style=\"text-align: right;\">\n",
       "      <th></th>\n",
       "      <th>Average Heart Rate (bpm)</th>\n",
       "      <th>Time (min)</th>\n",
       "    </tr>\n",
       "    <tr>\n",
       "      <th>Count</th>\n",
       "      <th></th>\n",
       "      <th></th>\n",
       "    </tr>\n",
       "  </thead>\n",
       "  <tbody>\n",
       "    <tr>\n",
       "      <th>1</th>\n",
       "      <td>151</td>\n",
       "      <td>20</td>\n",
       "    </tr>\n",
       "    <tr>\n",
       "      <th>2</th>\n",
       "      <td>150</td>\n",
       "      <td>30</td>\n",
       "    </tr>\n",
       "    <tr>\n",
       "      <th>3</th>\n",
       "      <td>149</td>\n",
       "      <td>30</td>\n",
       "    </tr>\n",
       "    <tr>\n",
       "      <th>4</th>\n",
       "      <td>144</td>\n",
       "      <td>30</td>\n",
       "    </tr>\n",
       "    <tr>\n",
       "      <th>5</th>\n",
       "      <td>143</td>\n",
       "      <td>30</td>\n",
       "    </tr>\n",
       "  </tbody>\n",
       "</table>\n",
       "</div>"
      ],
      "text/plain": [
       "       Average Heart Rate (bpm)  Time (min)\n",
       "Count                                      \n",
       "1                           151          20\n",
       "2                           150          30\n",
       "3                           149          30\n",
       "4                           144          30\n",
       "5                           143          30"
      ]
     },
     "execution_count": 23,
     "metadata": {},
     "output_type": "execute_result"
    }
   ],
   "source": [
    "CE = HR_Test.loc[HR_Test['Type']=='Cardio: Elliptical']\n",
    "#resets index\n",
    "CE = CE.reset_index(drop=True)\n",
    "#Drop unessecary columns\n",
    "CE = CE.drop(['Workout', 'Date', 'Type'], axis=1)\n",
    "#Set the index to the count\n",
    "CE = CE.set_index('Count')\n",
    "CE"
   ]
  },
  {
   "cell_type": "code",
   "execution_count": null,
   "metadata": {},
   "outputs": [],
   "source": []
  },
  {
   "cell_type": "code",
   "execution_count": null,
   "metadata": {},
   "outputs": [],
   "source": [
    "CE = HR_Test.loc[HR_Test['Type']=='Cardio: Elliptical']\n",
    "#resets index\n",
    "CE = CE.reset_index(drop=True)\n",
    "CE = CE.set_index('Workout')\n",
    "#Finds the correlation between Average Heart Rate over multiple workouts, \n",
    "CE_Corr = CE['Count'].corr(CE['Average Heart Rate (bpm)'])\n",
    "CE_Corr = \"{:.2f}\".format(CE_Corr )\n",
    "print('The correlation of Average Heart Rate for elliptical over multiple workouts is ' + str(CE_Corr))"
   ]
  },
  {
   "cell_type": "markdown",
   "metadata": {},
   "source": [
    "    Cardio: Treadmill"
   ]
  },
  {
   "cell_type": "code",
   "execution_count": null,
   "metadata": {},
   "outputs": [
    {
     "data": {
      "text/html": [
       "<div>\n",
       "<style scoped>\n",
       "    .dataframe tbody tr th:only-of-type {\n",
       "        vertical-align: middle;\n",
       "    }\n",
       "\n",
       "    .dataframe tbody tr th {\n",
       "        vertical-align: top;\n",
       "    }\n",
       "\n",
       "    .dataframe thead th {\n",
       "        text-align: right;\n",
       "    }\n",
       "</style>\n",
       "<table border=\"1\" class=\"dataframe\">\n",
       "  <thead>\n",
       "    <tr style=\"text-align: right;\">\n",
       "      <th></th>\n",
       "      <th>Average Heart Rate (bpm)</th>\n",
       "      <th>Time (min)</th>\n",
       "    </tr>\n",
       "    <tr>\n",
       "      <th>Count</th>\n",
       "      <th></th>\n",
       "      <th></th>\n",
       "    </tr>\n",
       "  </thead>\n",
       "  <tbody>\n",
       "    <tr>\n",
       "      <th>1</th>\n",
       "      <td>136</td>\n",
       "      <td>25</td>\n",
       "    </tr>\n",
       "    <tr>\n",
       "      <th>2</th>\n",
       "      <td>127</td>\n",
       "      <td>30</td>\n",
       "    </tr>\n",
       "    <tr>\n",
       "      <th>3</th>\n",
       "      <td>134</td>\n",
       "      <td>30</td>\n",
       "    </tr>\n",
       "    <tr>\n",
       "      <th>4</th>\n",
       "      <td>132</td>\n",
       "      <td>30</td>\n",
       "    </tr>\n",
       "    <tr>\n",
       "      <th>5</th>\n",
       "      <td>128</td>\n",
       "      <td>30</td>\n",
       "    </tr>\n",
       "    <tr>\n",
       "      <th>6</th>\n",
       "      <td>126</td>\n",
       "      <td>30</td>\n",
       "    </tr>\n",
       "  </tbody>\n",
       "</table>\n",
       "</div>"
      ],
      "text/plain": [
       "       Average Heart Rate (bpm)  Time (min)\n",
       "Count                                      \n",
       "1                           136          25\n",
       "2                           127          30\n",
       "3                           134          30\n",
       "4                           132          30\n",
       "5                           128          30\n",
       "6                           126          30"
      ]
     },
     "execution_count": 24,
     "metadata": {},
     "output_type": "execute_result"
    }
   ],
   "source": [
    "CT = HR_Test.loc[HR_Test['Type']=='Cardio: Treadmill']\n",
    "#resets index\n",
    "CT = CT.reset_index(drop=True)\n",
    "#Drop unessecary columns\n",
    "CT = CT.drop(['Workout', 'Date', 'Type'], axis=1)\n",
    "#Set the index to the count\n",
    "CT = CT.set_index('Count')\n",
    "CT"
   ]
  },
  {
   "cell_type": "code",
   "execution_count": null,
   "metadata": {},
   "outputs": [
    {
     "name": "stdout",
     "output_type": "stream",
     "text": [
      "The correlation of Average Heart Rate for treadmill over multiple workouts is -0.64\n"
     ]
    }
   ],
   "source": [
    "CT = HR_Test.loc[HR_Test['Type']=='Cardio: Treadmill']\n",
    "#resets index\n",
    "CT = CT.reset_index(drop=True)\n",
    "CT = CT.set_index('Workout')\n",
    "#Finds the correlation between Average Heart Rate over multiple workouts, \n",
    "CT_Corr = CT['Count'].corr(CT['Average Heart Rate (bpm)'])\n",
    "CT_Corr = \"{:.2f}\".format(CT_Corr)\n",
    "print('The correlation of Average Heart Rate for treadmill over multiple workouts is ' + str(CT_Corr))"
   ]
  },
  {
   "cell_type": "markdown",
   "metadata": {},
   "source": [
    "Pre Workout Test"
   ]
  },
  {
   "cell_type": "code",
   "execution_count": null,
   "metadata": {},
   "outputs": [],
   "source": [
    "PW_Test"
   ]
  },
  {
   "cell_type": "code",
   "execution_count": null,
   "metadata": {},
   "outputs": [],
   "source": [
    "#Allows Strings to be read as integers\n",
    "PW_Test['Pre Workout']=PW_Test['Pre Workout'].astype('category').cat.codes\n",
    "\n",
    "PW_Test.corr()"
   ]
  },
  {
   "cell_type": "code",
   "execution_count": null,
   "metadata": {},
   "outputs": [],
   "source": []
  }
 ],
 "metadata": {
  "kernelspec": {
   "display_name": "Python 3.9.12 ('base')",
   "language": "python",
   "name": "python3"
  },
  "language_info": {
   "codemirror_mode": {
    "name": "ipython",
    "version": 3
   },
   "file_extension": ".py",
   "mimetype": "text/x-python",
   "name": "python",
   "nbconvert_exporter": "python",
   "pygments_lexer": "ipython3",
   "version": "3.9.12"
  },
  "orig_nbformat": 4,
  "vscode": {
   "interpreter": {
    "hash": "41e7cfbe395d382b8898a9bc8c5e0ea0332222ed7e30be99f81ea933fa673d99"
   }
  }
 },
 "nbformat": 4,
 "nbformat_minor": 2
}
